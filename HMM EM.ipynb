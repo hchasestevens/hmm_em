{
 "cells": [
  {
   "cell_type": "code",
   "execution_count": 3,
   "metadata": {
    "collapsed": true
   },
   "outputs": [],
   "source": [
    "from nltk.corpus import brown"
   ]
  },
  {
   "cell_type": "code",
   "execution_count": 8,
   "metadata": {
    "collapsed": false
   },
   "outputs": [
    {
     "data": {
      "text/plain": [
       "[[u'The', u'Fulton', u'County', u'Grand', u'Jury', u'said', u'Friday', u'an', u'investigation', u'of', u\"Atlanta's\", u'recent', u'primary', u'election', u'produced', u'``', u'no', u'evidence', u\"''\", u'that', u'any', u'irregularities', u'took', u'place', u'.'], [u'The', u'jury', u'further', u'said', u'in', u'term-end', u'presentments', u'that', u'the', u'City', u'Executive', u'Committee', u',', u'which', u'had', u'over-all', u'charge', u'of', u'the', u'election', u',', u'``', u'deserves', u'the', u'praise', u'and', u'thanks', u'of', u'the', u'City', u'of', u'Atlanta', u\"''\", u'for', u'the', u'manner', u'in', u'which', u'the', u'election', u'was', u'conducted', u'.'], ...]"
      ]
     },
     "execution_count": 8,
     "metadata": {},
     "output_type": "execute_result"
    }
   ],
   "source": [
    "brown.sents(categories=['news', 'editorial', 'reviews'])"
   ]
  },
  {
   "cell_type": "code",
   "execution_count": 9,
   "metadata": {
    "collapsed": true
   },
   "outputs": [],
   "source": [
    "import string\n",
    "sentences = [map(string.lower, sentence) for sentence in brown.sents(categories=['news', 'editorial', 'reviews'])]"
   ]
  },
  {
   "cell_type": "code",
   "execution_count": 11,
   "metadata": {
    "collapsed": false
   },
   "outputs": [],
   "source": [
    "parts_of_speech = range(10)"
   ]
  },
  {
   "cell_type": "code",
   "execution_count": 22,
   "metadata": {
    "collapsed": true
   },
   "outputs": [],
   "source": [
    "import random\n",
    "random.seed('hmm_em')\n",
    "pos_assignments = [[random.choice(parts_of_speech) for token in sentence] for sentence in sentences]"
   ]
  },
  {
   "cell_type": "code",
   "execution_count": 23,
   "metadata": {
    "collapsed": false
   },
   "outputs": [],
   "source": [
    "from collections import Counter\n",
    "emissions = {\n",
    "    pos: Counter(\n",
    "        token\n",
    "        for sentence, assignments\n",
    "        in zip(sentences, pos_assignments)\n",
    "        for token, assignment\n",
    "        in zip(sentence, assignments)\n",
    "        if assignment == pos\n",
    "    )\n",
    "    for pos in parts_of_speech\n",
    "}"
   ]
  },
  {
   "cell_type": "code",
   "execution_count": 26,
   "metadata": {
    "collapsed": false
   },
   "outputs": [
    {
     "data": {
      "text/plain": [
       "[(u'the', 1258),\n",
       " (u',', 990),\n",
       " (u'.', 825),\n",
       " (u'of', 644),\n",
       " (u'to', 435),\n",
       " (u'and', 422),\n",
       " (u'a', 400),\n",
       " (u'in', 397),\n",
       " (u'is', 206),\n",
       " (u'for', 187)]"
      ]
     },
     "execution_count": 26,
     "metadata": {},
     "output_type": "execute_result"
    }
   ],
   "source": [
    "emissions[0].most_common(10)"
   ]
  },
  {
   "cell_type": "code",
   "execution_count": 35,
   "metadata": {
    "collapsed": false
   },
   "outputs": [
    {
     "data": {
      "text/plain": [
       "[(u'the', 1302),\n",
       " (u',', 1044),\n",
       " (u'.', 824),\n",
       " (u'of', 639),\n",
       " (u'to', 445),\n",
       " (u'and', 444),\n",
       " (u'a', 414),\n",
       " (u'in', 358),\n",
       " (u'is', 193),\n",
       " (u'that', 192)]"
      ]
     },
     "execution_count": 35,
     "metadata": {},
     "output_type": "execute_result"
    }
   ],
   "source": [
    "emissions[9].most_common(10)"
   ]
  },
  {
   "cell_type": "code",
   "execution_count": 50,
   "metadata": {
    "collapsed": false
   },
   "outputs": [],
   "source": [
    "from collections import defaultdict\n",
    "START, END = 'START', 'END'\n",
    "transmissions = defaultdict(list)\n",
    "for pos_assignment in pos_assignments:\n",
    "    for token1, token2 in zip([START] + pos_assignment, pos_assignment + [END]):\n",
    "        transmissions[token1].append(token2)\n",
    "transmissions = {k: Counter(v) for k, v in transmissions.items()}"
   ]
  },
  {
   "cell_type": "code",
   "execution_count": 51,
   "metadata": {
    "collapsed": false
   },
   "outputs": [
    {
     "data": {
      "text/plain": [
       "[(3, 976),\n",
       " (5, 949),\n",
       " (6, 947),\n",
       " (2, 943),\n",
       " (7, 943),\n",
       " (8, 938),\n",
       " (1, 935),\n",
       " (9, 932),\n",
       " (0, 914),\n",
       " (4, 894)]"
      ]
     },
     "execution_count": 51,
     "metadata": {},
     "output_type": "execute_result"
    }
   ],
   "source": [
    "transmissions[START].most_common()"
   ]
  },
  {
   "cell_type": "code",
   "execution_count": 52,
   "metadata": {
    "collapsed": false
   },
   "outputs": [
    {
     "data": {
      "text/plain": [
       "[(3, 2073),\n",
       " (6, 1994),\n",
       " (4, 1994),\n",
       " (9, 1990),\n",
       " (0, 1965),\n",
       " (5, 1943),\n",
       " (8, 1938),\n",
       " (7, 1892),\n",
       " (1, 1876),\n",
       " (2, 1867),\n",
       " ('END', 901)]"
      ]
     },
     "execution_count": 52,
     "metadata": {},
     "output_type": "execute_result"
    }
   ],
   "source": [
    "transmissions[3].most_common()"
   ]
  },
  {
   "cell_type": "code",
   "execution_count": 54,
   "metadata": {
    "collapsed": false
   },
   "outputs": [],
   "source": [
    "emission_probabilities = {\n",
    "    state: {token: count / float(sum(token_counts.values())) for token, count in token_counts.items()}\n",
    "    for state, token_counts in emissions.items()\n",
    "}"
   ]
  },
  {
   "cell_type": "code",
   "execution_count": 60,
   "metadata": {
    "collapsed": false,
    "scrolled": true
   },
   "outputs": [
    {
     "data": {
      "text/plain": [
       "[(u'the', 0.06494396319678951),\n",
       " (u',', 0.04996818871433466),\n",
       " (u'.', 0.036950031811285665),\n",
       " (u'of', 0.02814075270395928),\n",
       " (u'and', 0.024763862379484167),\n",
       " (u'to', 0.023295649194929772),\n",
       " (u'a', 0.02060392502324671),\n",
       " (u'in', 0.018059022170019087),\n",
       " (u'is', 0.010130670973425342),\n",
       " (u'that', 0.009053981304752117),\n",
       " (u'for', 0.008319874712474917),\n",
       " (u\"''\", 0.008221993833504625),\n",
       " (u'``', 0.008173053394019478),\n",
       " (u'on', 0.006606959330494788),\n",
       " (u'he', 0.0064601380120393485),\n",
       " (u'with', 0.005872852738217589),\n",
       " (u'it', 0.00572603141976215),\n",
       " (u'as', 0.005628150540791856),\n",
       " (u'by', 0.005383448343366124),\n",
       " (u'be', 0.005089805706455244),\n",
       " (u'was', 0.005089805706455244),\n",
       " (u'at', 0.004991924827484951),\n",
       " (u'has', 0.004747222630059218),\n",
       " (u'his', 0.004355699114178046),\n",
       " (u'but', 0.004306758674692899)]"
      ]
     },
     "execution_count": 60,
     "metadata": {},
     "output_type": "execute_result"
    }
   ],
   "source": [
    "sorted(emission_probabilities[3].items(), key=lambda (__, p): p, reverse=True)[:25]"
   ]
  },
  {
   "cell_type": "code",
   "execution_count": 63,
   "metadata": {
    "collapsed": true
   },
   "outputs": [],
   "source": [
    "transmission_probabilities = {\n",
    "    state: {next_state: count / float(sum(next_state_counts.values())) for next_state, count in next_state_counts.items()}\n",
    "    for state, next_state_counts in transmissions.items()\n",
    "}"
   ]
  },
  {
   "cell_type": "code",
   "execution_count": 74,
   "metadata": {
    "collapsed": false
   },
   "outputs": [
    {
     "data": {
      "text/plain": [
       "[(3, 0.10145353105270885),\n",
       " (6, 0.09758723633338227),\n",
       " (4, 0.09758723633338227),\n",
       " (9, 0.09739147457544169),\n",
       " (0, 0.09616796358831302),\n",
       " (5, 0.0950912739196398),\n",
       " (8, 0.09484657172221407),\n",
       " (7, 0.09259531150589732),\n",
       " (1, 0.09181226447413497),\n",
       " (2, 0.09137180051876866),\n",
       " ('END', 0.04409533597611707)]"
      ]
     },
     "execution_count": 74,
     "metadata": {},
     "output_type": "execute_result"
    }
   ],
   "source": [
    "sorted(transmission_probabilities[3].items(), key=lambda (__, p): p, reverse=True)"
   ]
  }
 ],
 "metadata": {
  "kernelspec": {
   "display_name": "Python 2",
   "language": "python",
   "name": "python2"
  },
  "language_info": {
   "codemirror_mode": {
    "name": "ipython",
    "version": 2
   },
   "file_extension": ".py",
   "mimetype": "text/x-python",
   "name": "python",
   "nbconvert_exporter": "python",
   "pygments_lexer": "ipython2",
   "version": "2.7.11"
  }
 },
 "nbformat": 4,
 "nbformat_minor": 0
}
